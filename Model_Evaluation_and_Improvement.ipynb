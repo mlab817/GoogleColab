{
  "nbformat": 4,
  "nbformat_minor": 0,
  "metadata": {
    "colab": {
      "name": "Model Evaluation and Improvement.ipynb",
      "provenance": [],
      "authorship_tag": "ABX9TyNutZvyBW5BQWVhC2/ISgml",
      "include_colab_link": true
    },
    "kernelspec": {
      "name": "python3",
      "display_name": "Python 3"
    },
    "language_info": {
      "name": "python"
    }
  },
  "cells": [
    {
      "cell_type": "markdown",
      "metadata": {
        "id": "view-in-github",
        "colab_type": "text"
      },
      "source": [
        "<a href=\"https://colab.research.google.com/github/mlab817/GoogleColab/blob/main/Model_Evaluation_and_Improvement.ipynb\" target=\"_parent\"><img src=\"https://colab.research.google.com/assets/colab-badge.svg\" alt=\"Open In Colab\"/></a>"
      ]
    },
    {
      "cell_type": "markdown",
      "source": [
        "# Cross-Validation"
      ],
      "metadata": {
        "id": "CoWYsrNOH7x8"
      }
    },
    {
      "cell_type": "code",
      "execution_count": 1,
      "metadata": {
        "id": "GKODxMI0BBVn"
      },
      "outputs": [],
      "source": [
        "from sklearn.model_selection import cross_val_score\n",
        "from sklearn.datasets import load_iris\n",
        "from sklearn.linear_model import LogisticRegression"
      ]
    },
    {
      "cell_type": "code",
      "source": [
        "iris = load_iris()\n",
        "logreg = LogisticRegression(max_iter=10**3)"
      ],
      "metadata": {
        "id": "Zr0kZn2JEjF1"
      },
      "execution_count": 11,
      "outputs": []
    },
    {
      "cell_type": "code",
      "source": [
        "scores = cross_val_score(logreg, iris.data, iris.target, cv=5)\n",
        "print(\"Cross-validation scores: {}\".format(scores))"
      ],
      "metadata": {
        "colab": {
          "base_uri": "https://localhost:8080/"
        },
        "id": "y3YDEfiwEpfP",
        "outputId": "ad2c5841-2e8a-4436-f647-35026928fda7"
      },
      "execution_count": 13,
      "outputs": [
        {
          "output_type": "stream",
          "name": "stdout",
          "text": [
            "Cross-validation scores: [0.96666667 1.         0.93333333 0.96666667 1.        ]\n"
          ]
        }
      ]
    },
    {
      "cell_type": "code",
      "source": [
        "print('Average cross-validation score: {:.2f}'.format(scores.mean()))"
      ],
      "metadata": {
        "colab": {
          "base_uri": "https://localhost:8080/"
        },
        "id": "KGbQbvFxEyIf",
        "outputId": "361fb0ce-8a9e-4018-a00b-2b3ead89dcc2"
      },
      "execution_count": 15,
      "outputs": [
        {
          "output_type": "stream",
          "name": "stdout",
          "text": [
            "Average cross-validation score: 0.97\n"
          ]
        }
      ]
    },
    {
      "cell_type": "code",
      "source": [
        "from sklearn.model_selection import KFold\n",
        "kfold = KFold(n_splits=3)"
      ],
      "metadata": {
        "id": "P6l5i6XWGxQn"
      },
      "execution_count": 20,
      "outputs": []
    },
    {
      "cell_type": "code",
      "source": [
        "print('Cross-validation scores:\\n{}'.format(\n",
        "    cross_val_score(logreg, iris.data, iris.target, cv=kfold)\n",
        "))"
      ],
      "metadata": {
        "colab": {
          "base_uri": "https://localhost:8080/"
        },
        "id": "M4g-h5AlHD2p",
        "outputId": "f4b1b4af-186d-4018-d4db-f3151ab766f0"
      },
      "execution_count": 21,
      "outputs": [
        {
          "output_type": "stream",
          "name": "stdout",
          "text": [
            "Cross-validation scores:\n",
            "[0. 0. 0.]\n"
          ]
        }
      ]
    },
    {
      "cell_type": "code",
      "source": [
        "kfold = KFold(n_splits=3, shuffle=True, random_state=0)\n",
        "print('Cross-validation scores:\\n{}'.format(\n",
        "    cross_val_score(logreg, iris.data, iris.target, cv=kfold)\n",
        "))"
      ],
      "metadata": {
        "colab": {
          "base_uri": "https://localhost:8080/"
        },
        "id": "EVcD7n6_HfOf",
        "outputId": "b4de1905-a4e5-4b21-e3c3-b1b0cf015044"
      },
      "execution_count": 18,
      "outputs": [
        {
          "output_type": "stream",
          "name": "stdout",
          "text": [
            "Cross-validation scores:\n",
            "[0.98 0.96 0.96]\n"
          ]
        }
      ]
    },
    {
      "cell_type": "markdown",
      "source": [
        "# Leave-one-out cross-validation\n",
        "works well with small dataset\n",
        "each individual datapoint is used as a test set"
      ],
      "metadata": {
        "id": "-onkGzKnH_7N"
      }
    },
    {
      "cell_type": "code",
      "source": [
        "from sklearn.model_selection import LeaveOneOut\n",
        "loo = LeaveOneOut()"
      ],
      "metadata": {
        "id": "-zo90ae0H2mV"
      },
      "execution_count": 22,
      "outputs": []
    },
    {
      "cell_type": "code",
      "source": [
        "scores = cross_val_score(logreg, iris.data, iris.target, cv=loo)\n",
        "print('Number of cv iterations: ', len(scores))\n",
        "print(\"Mean accuracy: {:.2f}\".format(scores.mean()))"
      ],
      "metadata": {
        "colab": {
          "base_uri": "https://localhost:8080/"
        },
        "id": "AdEe1S4rINQS",
        "outputId": "a922ddc9-0113-4d6c-963c-72397ed8254c"
      },
      "execution_count": 23,
      "outputs": [
        {
          "output_type": "stream",
          "name": "stdout",
          "text": [
            "Number of cv iterations:  150\n",
            "Mean accuracy: 0.97\n"
          ]
        }
      ]
    },
    {
      "cell_type": "code",
      "source": [
        "# Shuffle-split cross-validation"
      ],
      "metadata": {
        "id": "vovLKdfxIYzR"
      },
      "execution_count": null,
      "outputs": []
    },
    {
      "cell_type": "code",
      "source": [
        "import mglearn\n",
        "\n",
        "mglearn.plots.plot_shuffle_split()"
      ],
      "metadata": {
        "colab": {
          "base_uri": "https://localhost:8080/",
          "height": 153
        },
        "id": "VeMXuC5MK-sA",
        "outputId": "cddbcb28-18ac-4528-deb6-de9513bc6bf4"
      },
      "execution_count": 25,
      "outputs": [
        {
          "output_type": "display_data",
          "data": {
            "image/png": "[encoded data removed]",
            "text/plain": [
              "<Figure size 720x144 with 1 Axes>"
            ]
          },
          "metadata": {
            "needs_background": "light"
          }
        }
      ]
    },
    {
      "cell_type": "code",
      "source": [
        "# cv is cross-validation splitter\n",
        "# kfold\n",
        "# leave-one-out\n",
        "# shuffle-split"
      ],
      "metadata": {
        "id": "4N2Kci8gLFxJ"
      },
      "execution_count": null,
      "outputs": []
    }
  ]
}